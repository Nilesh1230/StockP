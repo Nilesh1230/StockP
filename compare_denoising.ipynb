{
 "cells": [
  {
   "cell_type": "code",
   "execution_count": 48,
   "id": "328ee267",
   "metadata": {},
   "outputs": [
    {
     "name": "stdout",
     "output_type": "stream",
     "text": [
      "Jupyter Notebook's Current Working Directory is:\n",
      "/Users/nileshkumar/Desktop/StockP\n"
     ]
    }
   ],
   "source": [
    "import os\n",
    "\n",
    "print(\"Jupyter Notebook's Current Working Directory is:\")\n",
    "print(os.getcwd())"
   ]
  },
  {
   "cell_type": "code",
   "execution_count": null,
   "id": "87f27b9e",
   "metadata": {},
   "outputs": [],
   "source": []
  },
  {
   "cell_type": "code",
   "execution_count": 49,
   "id": "7c0ea7a5",
   "metadata": {},
   "outputs": [
    {
     "name": "stdout",
     "output_type": "stream",
     "text": [
      "--- Checking contents of 'datasets' folder ---\n",
      "Files found:\n",
      "['BHARTIARTL.csv', 'TATASTEEL.csv', 'TITAN.csv', 'BRITANNIA.csv', 'MM.csv', 'COALINDIA.csv', 'JSWSTEEL.csv', 'NESTLEIND.csv', 'TCS 2.csv', 'ICICIBANK.csv', 'MARUTI.csv', 'ULTRACEMCO.csv', 'WIPRO.csv', 'NIFTY50_all.csv', 'NTPC.csv', 'VEDL.csv', 'ASIANPAINT.csv', 'ONGC.csv', 'IOC.csv', 'DRREDDY.csv', 'TECHM.csv', 'TCS.csv', 'SUNPHARMA.csv', 'HCLTECH.csv', 'HDFC.csv', 'KOTAKBANK.csv', 'TECHM 2.csv', 'ZEEL.csv', 'AXISBANK.csv', 'EICHERMOT.csv', 'HDFCBANK.csv', 'INFRATEL.csv', 'TATAMOTORS.csv', 'HEROMOTOCO.csv', 'UPL.csv', 'stock_metadata.csv', 'CIPLA.csv', 'BAJAJ-AUTO.csv', 'ITC.csv', 'INFY 2.csv', 'GAIL.csv', 'POWERGRID.csv', 'HINDALCO.csv', 'BPCL.csv', 'LT.csv', 'ADANIPORTS.csv', 'HINDUNILVR.csv', 'GRASIM.csv', 'RELIANCE.csv', 'INFY.csv', 'SHREECEM.csv', 'HCLTECH 2.csv', 'SBIN.csv', 'INDUSINDBK.csv', 'BAJAJFINSV.csv', 'BAJFINANCE.csv']\n",
      "\n",
      "--- Checking contents of 'data/denoised_from_scratch' folder ---\n",
      "Files found:\n",
      "['ZEEL_denoised.csv', 'TCS_denoised.csv', 'BPCL_denoised.csv', 'GAIL_denoised.csv']\n"
     ]
    }
   ],
   "source": [
    "import os\n",
    "\n",
    "print(\"--- Checking contents of 'datasets' folder ---\")\n",
    "try:\n",
    "    datasets_files = os.listdir('datasets')\n",
    "    print(\"Files found:\")\n",
    "    print(datasets_files)\n",
    "except FileNotFoundError:\n",
    "    print(\">>> ERROR: The 'datasets' folder itself does not exist here!\")\n",
    "\n",
    "print(\"\\n--- Checking contents of 'data/denoised_from_scratch' folder ---\")\n",
    "try:\n",
    "    denoised_files = os.listdir('data/denoised_from_scratch')\n",
    "    print(\"Files found:\")\n",
    "    print(denoised_files)\n",
    "except FileNotFoundError:\n",
    "    print(\">>> ERROR: The 'data/denoised_from_scratch' folder does not exist!\")"
   ]
  },
  {
   "cell_type": "markdown",
   "id": "5a817b31",
   "metadata": {},
   "source": []
  },
  {
   "cell_type": "markdown",
   "id": "244da182",
   "metadata": {},
   "source": []
  },
  {
   "cell_type": "markdown",
   "id": "d4b98b12",
   "metadata": {},
   "source": []
  },
  {
   "cell_type": "code",
   "execution_count": 50,
   "id": "edd0600c",
   "metadata": {},
   "outputs": [],
   "source": [
    "import pandas as pd\n",
    "import numpy as np\n",
    "import matplotlib.pyplot as plt"
   ]
  },
  {
   "cell_type": "code",
   "execution_count": 51,
   "id": "26193f12",
   "metadata": {},
   "outputs": [
    {
     "name": "stdout",
     "output_type": "stream",
     "text": [
      "✅ Successfully loaded REAL DATA files for: TCS\n"
     ]
    }
   ],
   "source": [
    "\n",
    "# --- DATA LOADING (BULLETPROOF VERSION) ---\n",
    "\n",
    "# This line removes any accidental leading/trailing spaces from the ticker name\n",
    "safe_ticker_symbol = TICKER_SYMBOL.strip()\n",
    "\n",
    "noisy_file_path = f'datasets/{safe_ticker_symbol}.csv'\n",
    "denoised_file_path = f'data/denoised_from_scratch/{safe_ticker_symbol}_denoised.csv'\n",
    "\n",
    "data_loaded_successfully = False\n",
    "try:\n",
    "    noisy_df = pd.read_csv(noisy_file_path)\n",
    "    denoised_df = pd.read_csv(denoised_file_path)\n",
    "    print(f\"✅ Successfully loaded REAL DATA files for: {safe_ticker_symbol}\")\n",
    "    data_loaded_successfully = True\n",
    "except FileNotFoundError as e:\n",
    "    print(f\"❌ FATAL ERROR: Could not find the files for '{safe_ticker_symbol}'.\")\n",
    "    print(f\"   The system is looking for the file at this exact path: {e.filename}\")\n",
    "    print(f\"   Please double-check that this file exists.\")"
   ]
  },
  {
   "cell_type": "code",
   "execution_count": null,
   "id": "1922e7d7",
   "metadata": {},
   "outputs": [],
   "source": []
  }
 ],
 "metadata": {
  "kernelspec": {
   "display_name": "venv",
   "language": "python",
   "name": "python3"
  },
  "language_info": {
   "codemirror_mode": {
    "name": "ipython",
    "version": 3
   },
   "file_extension": ".py",
   "mimetype": "text/x-python",
   "name": "python",
   "nbconvert_exporter": "python",
   "pygments_lexer": "ipython3",
   "version": "3.13.7"
  }
 },
 "nbformat": 4,
 "nbformat_minor": 5
}
